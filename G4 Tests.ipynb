{
 "cells": [
  {
   "cell_type": "code",
   "execution_count": 1,
   "id": "6b8cc044-0662-4eff-b6eb-b4bc4d61b796",
   "metadata": {},
   "outputs": [],
   "source": [
    "import os\n",
    "import dotenv\n",
    "from typing import List, Union\n",
    "\n",
    "import openai\n",
    "import fourth_gen"
   ]
  },
  {
   "cell_type": "code",
   "execution_count": 2,
   "id": "64df7f69-1114-45fc-b5c0-9b4ca28bad7a",
   "metadata": {},
   "outputs": [],
   "source": [
    "%load_ext autoreload\n",
    "%autoreload 2"
   ]
  },
  {
   "cell_type": "code",
   "execution_count": 3,
   "id": "60a46474-0363-479f-8955-5e131fbc07a0",
   "metadata": {},
   "outputs": [],
   "source": [
    "dotenv.load_dotenv()\n",
    "client = openai.OpenAI()\n",
    "g4 = fourth_gen.CodingAssistant(client)"
   ]
  },
  {
   "cell_type": "code",
   "execution_count": 4,
   "id": "a65b1245-d571-430a-b748-360ca9fabb8d",
   "metadata": {},
   "outputs": [
    {
     "name": "stdout",
     "output_type": "stream",
     "text": [
      "4th Gen Approach: flexible\n",
      "#FF4500\n",
      "#A8D5BA\n"
     ]
    }
   ],
   "source": [
    "@g4\n",
    "def color_to_hex(color_name: str) -> str:\n",
    "    \"\"\"\n",
    "    Return the hex code for this color as a string. Always\n",
    "    return a hex code in this format: \"#0F0F0F\". If the color name\n",
    "    isn't recognized, choose a color which matches the emotional\n",
    "    vibes of the name.\n",
    "    \"\"\"\n",
    "\n",
    "print(\"4th Gen Approach:\", color_to_hex.__fourth_gen_approach__)\n",
    "print(color_to_hex(\"dangerous tangerene\"))\n",
    "print(color_to_hex(\"zen green\"))"
   ]
  },
  {
   "cell_type": "code",
   "execution_count": 5,
   "id": "d8ff8c2c-40bc-4314-9c9b-8fb5ad2ac0f9",
   "metadata": {},
   "outputs": [
    {
     "name": "stdout",
     "output_type": "stream",
     "text": [
      "4th Gen Approach: flexible\n",
      "Soft Green\n",
      "Tomato\n"
     ]
    }
   ],
   "source": [
    "@g4\n",
    "def hex_to_color_name(hex: str):\n",
    "    \"\"\"\n",
    "    Returns a name for this color in title case. If no exact name is known,\n",
    "    it returns a name with appropriate emotional vibes.\n",
    "    \"\"\"\n",
    "\n",
    "print(\"4th Gen Approach:\", hex_to_color_name.__fourth_gen_approach__)\n",
    "print(hex_to_color_name('#A8D8B9'))\n",
    "print(hex_to_color_name('#FF6347'))"
   ]
  },
  {
   "cell_type": "code",
   "execution_count": 6,
   "id": "78d2adcf-8172-4649-be1c-3c0c4d0f2d69",
   "metadata": {},
   "outputs": [
    {
     "name": "stdout",
     "output_type": "stream",
     "text": [
      "4th Gen Approach: rigid\n"
     ]
    },
    {
     "data": {
      "text/plain": [
       "['555-123-7654', 'jsmith@gmail.com']"
      ]
     },
     "execution_count": 6,
     "metadata": {},
     "output_type": "execute_result"
    }
   ],
   "source": [
    "@g4\n",
    "def find_contact_info(text: str) -> List[str]:\n",
    "    \"\"\"\n",
    "    Uses a regular expression to return a list of all\n",
    "    telephone numbers or email addresses found in the\n",
    "    given text.\n",
    "    \"\"\"\n",
    "    \n",
    "print(\"4th Gen Approach:\", find_contact_info.__fourth_gen_approach__)\n",
    "find_contact_info(\"Hello, my name is John and you can call me at 555-123-7654, or email me at jsmith@gmail.com if you prefer.\")"
   ]
  },
  {
   "cell_type": "code",
   "execution_count": 7,
   "id": "a71fcb66-2bca-45ae-ba6d-eb59d690d7ce",
   "metadata": {},
   "outputs": [
    {
     "name": "stdout",
     "output_type": "stream",
     "text": [
      "5.49 µs ± 1.55 µs per loop (mean ± std. dev. of 3 runs, 3 loops each)\n"
     ]
    }
   ],
   "source": [
    "%%timeit -n 3 -r 3\n",
    "find_contact_info(\"John Arbuckle, TEL: 123-456-7890 email jarbuck@hotmail.com\")"
   ]
  },
  {
   "cell_type": "code",
   "execution_count": 8,
   "id": "12da6737-a47e-48f5-84f8-af832428cd12",
   "metadata": {},
   "outputs": [
    {
     "data": {
      "text/plain": [
       "['123-456-7890', 'jarbuck@hotmail.com']"
      ]
     },
     "execution_count": 8,
     "metadata": {},
     "output_type": "execute_result"
    }
   ],
   "source": [
    "find_contact_info(\"John Arbuckle, TEL: 123-456-7890 email jarbuck@hotmail.com\")"
   ]
  },
  {
   "cell_type": "code",
   "execution_count": 9,
   "id": "edf8f188-3276-4a05-bfc7-4c227419caed",
   "metadata": {},
   "outputs": [],
   "source": [
    "@g4\n",
    "def interestingness(n: int) -> str:\n",
    "    \"\"\"If the given positive integer has an well-known, interesting\n",
    "    mathematical property, factoid, or story associated with it,\n",
    "    returns that as a string. Otherwise, returns an empty string\n",
    "    to indicate the number is boring.\"\"\""
   ]
  },
  {
   "cell_type": "code",
   "execution_count": 10,
   "id": "d2f8ed42-8ae9-4ef1-848f-d408fcf0edf2",
   "metadata": {},
   "outputs": [
    {
     "name": "stdout",
     "output_type": "stream",
     "text": [
      "42 The number 42 is famously known as the 'Answer to the Ultimate Question of Life, the Universe, and Everything' in Douglas Adams' science fiction series 'The Hitchhiker's Guide to the Galaxy.'\n",
      "1729 1729 is known as the Hardy-Ramanujan number, which is the smallest number expressible as the sum of two cubes in two different ways: 1729 = 1^3 + 12^3 = 9^3 + 10^3.\n",
      "5654 Boring!\n",
      "6174 6174 is known as Kaprekar's constant. If you take any four-digit number that has at least two different digits, rearrange the digits to form the largest and smallest numbers possible, and subtract the smaller from the larger, you will eventually reach 6174 in at most seven iterations.\n",
      "74327 Boring!\n"
     ]
    }
   ],
   "source": [
    "for n in [42, 1729, 5654, 6174, 74327]:\n",
    "    print(n, interestingness(n) or \"Boring!\")"
   ]
  },
  {
   "cell_type": "code",
   "execution_count": 15,
   "id": "e7245ea2-15e6-42fa-9f21-5059fce2f701",
   "metadata": {},
   "outputs": [],
   "source": [
    "@g4\n",
    "def fibonacci(n: int) -> int:\n",
    "    \"\"\"A highly performant fibonacci function capable of handling large numbers.\"\"\""
   ]
  },
  {
   "cell_type": "code",
   "execution_count": 18,
   "id": "f27ccee9-2477-42bf-bc96-4b2f40954ff0",
   "metadata": {},
   "outputs": [
    {
     "name": "stdout",
     "output_type": "stream",
     "text": [
      "def fibonacci(n: int) -> int:\n",
      "    \"\"\"A highly performant fibonacci function capable of handling large numbers.\"\"\"\n",
      "    if n <= 0:\n",
      "        return 0\n",
      "    elif n == 1:\n",
      "        return 1\n",
      "    a, b = 0, 1\n",
      "    for _ in range(2, n + 1):\n",
      "        a, b = b, a + b\n",
      "    return b\n"
     ]
    }
   ],
   "source": [
    "print(fibonacci.__fourth_gen_code__)"
   ]
  },
  {
   "cell_type": "code",
   "execution_count": 25,
   "id": "84b6a468-effd-430a-851a-2d7fbec29d7f",
   "metadata": {},
   "outputs": [
    {
     "name": "stdout",
     "output_type": "stream",
     "text": [
      "10 55\n",
      "20 6765\n",
      "30 832040\n",
      "40 102334155\n",
      "50 12586269025\n",
      "60 1548008755920\n",
      "70 190392490709135\n",
      "80 23416728348467685\n",
      "90 2880067194370816120\n",
      "100 354224848179261915075\n",
      "110 43566776258854844738105\n",
      "120 5358359254990966640871840\n",
      "130 659034621587630041982498215\n",
      "140 81055900096023504197206408605\n",
      "150 9969216677189303386214405760200\n",
      "160 1226132595394188293000174702095995\n",
      "170 150804340016807970735635273952047185\n",
      "180 18547707689471986212190138521399707760\n",
      "190 2281217241465037496128651402858212007295\n",
      "200 280571172992510140037611932413038677189525\n",
      "210 34507973060837282187130139035400899082304280\n",
      "220 4244200115309993198876969489421897548446236915\n",
      "230 522002106210068326179680117059857997559804836265\n",
      "240 64202014863723094126901777428873111802307548623680\n",
      "250 7896325826131730509282738943634332893686268675876375\n",
      "260 971183874599339129547649988289594072811608739584170445\n",
      "270 119447720249892581203851665820676436622934188700177088360\n",
      "280 14691098406862188148944207245954912110548093601382197697835\n",
      "290 1806885656323799249738933639586633513160792578781310139745345\n",
      "300 222232244629420445529739893461909967206666939096499764990979600\n",
      "310 27332759203762391000908267962175339332906872716290689783750745455\n",
      "320 3361707149818144672666187219454104827980338677164658343636350711365\n",
      "330 413462646668428032346940119724892718502248750418536685577487386752440\n",
      "340 50852543833066829834000968538942350270948615962802847667687312219838755\n",
      "350 6254449428820551641549772190170184190608177514674331726439961915653414425\n",
      "360 769246427201094785080787978422393713094534885688979999504447628313150135520\n",
      "370 94611056096305838013295371573764256526437182762229865607320618320601813254535\n",
      "380 11636390653418416980850249915594581159038678944868584489700931605805709880172285\n",
      "390 1431181439314368982806567444246559718305231073036073662367607266895781713447936520\n",
      "400 176023680645013966468226945392411250770384383304492191886725992896575345044216019675\n",
      "410 21649481537897403506609107715822337285038973915379503528404929519011871658725122483505\n",
      "420 2662710205480735617346452022100755074809023407208374441801919604845563638678145849451440\n",
      "430 327491705792592583530106989610677051864224840112714676838107706466485315685753214360043615\n",
      "440 40278817102283407038585813270091176624224846310456696876645445975772848265708967220435913205\n",
      "450 4953967011875066473162524925231604047727791871346061001150551747313593851366517214899257280600\n",
      "460 609297663643530892791951979990217206693894175329255046444641219473596270869815908465388209600595\n",
      "470 74938658661142424746936931013871484819301255773627024651689719443505027723135990224027850523592585\n",
      "480 9216845717656874712980450562726202415567360565980794777111390850331644813674856981646960226192287360\n",
      "490 1133597084613134447271848482284309025629966048359864130560049384871348807054284272752352079971127752695\n",
      "500 139423224561697880139724382870407283950070256587697307264108962948325571622863290691557658876222521294125\n"
     ]
    }
   ],
   "source": [
    "for n in range(10, 501, 10):\n",
    "    print(n, fibonacci(n))"
   ]
  },
  {
   "cell_type": "code",
   "execution_count": 11,
   "id": "0ec25711-1e3f-41ba-bb6d-f61804c0ae99",
   "metadata": {},
   "outputs": [
    {
     "data": {
      "text/plain": [
       "25"
      ]
     },
     "execution_count": 11,
     "metadata": {},
     "output_type": "execute_result"
    }
   ],
   "source": [
    "@g4\n",
    "def square(x: float) -> float:\n",
    "    \"\"\"compute the square of x\"\"\"\n",
    "\n",
    "square(5)"
   ]
  },
  {
   "cell_type": "code",
   "execution_count": 13,
   "id": "6f605f58-6aa7-414b-ad43-60fdb1833fb5",
   "metadata": {},
   "outputs": [
    {
     "name": "stdout",
     "output_type": "stream",
     "text": [
      "import pytest\n",
      "\n",
      "def test_square(square):\n",
      "    # Test with a positive number\n",
      "    assert square(2) == 4, \"Square of 2 should be 4\"\n",
      "    \n",
      "    # Test with a negative number\n",
      "    assert square(-3) == 9, \"Square of -3 should be 9\"\n",
      "    \n",
      "    # Test with zero\n",
      "    assert square(0) == 0, \"Square of 0 should be 0\"\n",
      "    \n",
      "    # Test with a floating point number\n",
      "    assert square(1.5) == pytest.approx(2.25), \"Square of 1.5 should be approximately 2.25\"\n",
      "    \n",
      "    # Test with a very small floating point number\n",
      "    assert square(0.1) == pytest.approx(0.01), \"Square of 0.1 should be approximately 0.01\"\n"
     ]
    }
   ],
   "source": [
    "test_square = g4.write_unit_test(square)\n",
    "print(test_square.__fourth_gen_code__)\n",
    "test_square()"
   ]
  },
  {
   "cell_type": "code",
   "execution_count": 26,
   "id": "7b618d83-560b-44b1-918f-9d6f3f0618aa",
   "metadata": {},
   "outputs": [
    {
     "data": {
      "text/plain": [
       "{'requests': 19,\n",
       " 'duration': 28.493656635284424,\n",
       " 'output_tokens': 1068,\n",
       " 'input_tokens': 4213,\n",
       " 'cost': 0.016303500000000002}"
      ]
     },
     "execution_count": 26,
     "metadata": {},
     "output_type": "execute_result"
    }
   ],
   "source": [
    "g4.usage"
   ]
  },
  {
   "cell_type": "code",
   "execution_count": null,
   "id": "35f8d6f3-7573-4cdc-96ac-34bba680b5c5",
   "metadata": {},
   "outputs": [],
   "source": []
  }
 ],
 "metadata": {
  "kernelspec": {
   "display_name": "Python 3 (ipykernel)",
   "language": "python",
   "name": "python3"
  },
  "language_info": {
   "codemirror_mode": {
    "name": "ipython",
    "version": 3
   },
   "file_extension": ".py",
   "mimetype": "text/x-python",
   "name": "python",
   "nbconvert_exporter": "python",
   "pygments_lexer": "ipython3",
   "version": "3.12.3"
  }
 },
 "nbformat": 4,
 "nbformat_minor": 5
}
